{
 "cells": [
  {
   "cell_type": "code",
   "execution_count": null,
   "metadata": {},
   "outputs": [],
   "source": [
    "import numpy as np\n",
    "import matplotlib.pyplot as plt\n",
    "import\n"
   ]
  },
  {
   "cell_type": "code",
   "execution_count": null,
   "metadata": {},
   "outputs": [],
   "source": [
    "def mean_squared_error(y_true, y_pred):\n",
    "    mse = np.mean((y_true - y_pred) ** 2)\n",
    "    return mse"
   ]
  },
  {
   "cell_type": "code",
   "execution_count": null,
   "metadata": {},
   "outputs": [],
   "source": [
    "def gradient_descent(x, y, m, c, learning_rate, epochs):\n",
    "    n = len(y)  # Number of samples\n",
    "    for epoch in range(epochs):\n",
    "        # Make predictions based on current slope and intercept\n",
    "        y_pred = m * x + c\n",
    "        \n",
    "        # Compute gradients\n",
    "        dm = (-2/n) * np.sum(x * (y - y_pred))\n",
    "        dc = (-2/n) * np.sum(y - y_pred)\n",
    "        \n",
    "        # Update weights (slope and intercept)\n",
    "        m = m - learning_rate * dm\n",
    "        c = c - learning_rate * dc\n",
    "        \n",
    "        # Compute MSE for the current epoch\n",
    "        error = mean_squared_error(y, y_pred)\n",
    "        \n",
    "        print(f'Epoch {epoch + 1}, MSE: {error}')\n",
    "    \n",
    "    return m, c  # Return the final values of slope and intercept\n"
   ]
  },
  {
   "cell_type": "code",
   "execution_count": null,
   "metadata": {},
   "outputs": [],
   "source": [
    "# Plot the data points\n",
    "plt.scatter(x, y, color='blue', label='Data Points')\n",
    "\n",
    "# Plot the line of best fit\n",
    "y_pred = m * x + c\n",
    "plt.plot(x, y_pred, color='red', label='Best Fit Line')\n",
    "\n",
    "plt.xlabel('Office Size (sq. ft.)')\n",
    "plt.ylabel('Office Price')\n",
    "plt.legend()\n",
    "plt.show()\n"
   ]
  },
  {
   "cell_type": "code",
   "execution_count": null,
   "metadata": {},
   "outputs": [],
   "source": [
    "# Predict office price for a size of 100 sq. ft.\n",
    "office_size = 100\n",
    "predicted_price = m * office_size + c\n",
    "print(f'Predicted office price for {office_size} sq. ft. is: {predicted_price}')\n"
   ]
  }
 ],
 "metadata": {
  "language_info": {
   "name": "python"
  }
 },
 "nbformat": 4,
 "nbformat_minor": 2
}
